{
 "cells": [
  {
   "cell_type": "markdown",
   "metadata": {},
   "source": [
    "# SplitComponentsImageFilter\n",
    "\n",
    "This notebook demonstrates how to use `itk.SplitComponentsImageFilter` to decompose an image into its constituent channels.\n",
    "\n",
    "An RGB image is decomposed into grayscale images representing Red, Green, and Blue channels. The image is then reassembled with an alpha channel to form an RGBA image for viewing."
   ]
  },
  {
   "cell_type": "code",
   "execution_count": 1,
   "metadata": {},
   "outputs": [],
   "source": [
    "import itk\n",
    "from itkwidgets import view\n",
    "from ipywidgets import interactive\n",
    "import ipywidgets as widgets\n",
    "import urllib.request"
   ]
  },
  {
   "cell_type": "code",
   "execution_count": 2,
   "metadata": {},
   "outputs": [
    {
     "data": {
      "text/plain": [
       "('VisibleWomanHeadSlice.png', <http.client.HTTPMessage at 0x7f812a937970>)"
      ]
     },
     "execution_count": 2,
     "metadata": {},
     "output_type": "execute_result"
    }
   ],
   "source": [
    "# Download image\n",
    "urllib.request.urlretrieve(\"https://raw.githubusercontent.com/InsightSoftwareConsortium/ITK/master/Examples/Data/VisibleWomanHeadSlice.png\", \"VisibleWomanHeadSlice.png\")"
   ]
  },
  {
   "cell_type": "code",
   "execution_count": 3,
   "metadata": {},
   "outputs": [
    {
     "name": "stdout",
     "output_type": "stream",
     "text": [
      "Image Type: (<itkTemplate itk::Image>, (<class 'itk.itkRGBPixelPython.itkRGBPixelUC'>, 2))\n",
      "Image Pixel Type: (<itkTemplate itk::RGBPixel>, (<itkCType unsigned char>,))\n"
     ]
    },
    {
     "data": {
      "application/vnd.jupyter.widget-view+json": {
       "model_id": "060f3cbc53f14bafb4f632c676822310",
       "version_major": 2,
       "version_minor": 0
      },
      "text/plain": [
       "Viewer(geometries=[], gradient_opacity=0.22, point_sets=[], rendered_image=<itk.itkImagePython.itkImageRGBUC2;…"
      ]
     },
     "metadata": {},
     "output_type": "display_data"
    }
   ],
   "source": [
    "# Read image\n",
    "image = itk.imread(\"VisibleWomanHeadSlice.png\")\n",
    "print(\"Image Type: %s\" % str(itk.template(image)))\n",
    "print(\"Image Pixel Type: %s\" % str(itk.template(itk.template(image)[1][0])))\n",
    "view(image)"
   ]
  },
  {
   "cell_type": "code",
   "execution_count": 4,
   "metadata": {},
   "outputs": [
    {
     "data": {
      "application/vnd.jupyter.widget-view+json": {
       "model_id": "81e267039d6e491e8b5d1880bec16aad",
       "version_major": 2,
       "version_minor": 0
      },
      "text/plain": [
       "HBox(children=(Viewer(annotations=False, geometries=[], gradient_opacity=0.22, point_sets=[], rendered_image=<…"
      ]
     },
     "metadata": {},
     "output_type": "display_data"
    }
   ],
   "source": [
    "# Decompose image in 3 components: R, G, and B\n",
    "split_images = itk.split_components_image_filter(image)\n",
    "\n",
    "rgb_viewer = view(image, annotations=False)\n",
    "viewer = view(split_images[0], cmap=\"gray_Matlab\", annotations=False)\n",
    "\n",
    "# Define a function to use with ipywidgets `interactive`\n",
    "def view_channels(index=0):\n",
    "    # Update the image used in the viewer\n",
    "    viewer.image = split_images[index]\n",
    "slider = interactive(view_channels, index=(0, len(split_images)-1, 1))\n",
    "\n",
    "widgets.HBox([rgb_viewer, widgets.VBox([viewer, slider])])"
   ]
  },
  {
   "cell_type": "code",
   "execution_count": 5,
   "metadata": {},
   "outputs": [
    {
     "name": "stdout",
     "output_type": "stream",
     "text": [
      "Blue Image Information: Image (0x55e1e2d520a0)\n",
      "  RTTI typeinfo:   itk::Image<unsigned char, 2u>\n",
      "  Reference Count: 1\n",
      "  Modified Time: 454\n",
      "  Debug: Off\n",
      "  Object Name: \n",
      "  Observers: \n",
      "    none\n",
      "  Source: (none)\n",
      "  Source output name: (none)\n",
      "  Release Data: Off\n",
      "  Data Released: False\n",
      "  Global Release Data: Off\n",
      "  PipelineMTime: 435\n",
      "  UpdateMTime: 451\n",
      "  RealTimeStamp: 0 seconds \n",
      "  LargestPossibleRegion: \n",
      "    Dimension: 2\n",
      "    Index: [0, 0]\n",
      "    Size: [142, 167]\n",
      "  BufferedRegion: \n",
      "    Dimension: 2\n",
      "    Index: [0, 0]\n",
      "    Size: [142, 167]\n",
      "  RequestedRegion: \n",
      "    Dimension: 2\n",
      "    Index: [0, 0]\n",
      "    Size: [142, 167]\n",
      "  Spacing: [1, 1]\n",
      "  Origin: [0, 0]\n",
      "  Direction: \n",
      "1 0\n",
      "0 1\n",
      "\n",
      "  IndexToPointMatrix: \n",
      "1 0\n",
      "0 1\n",
      "\n",
      "  PointToIndexMatrix: \n",
      "1 0\n",
      "0 1\n",
      "\n",
      "  Inverse Direction: \n",
      "1 0\n",
      "0 1\n",
      "\n",
      "  PixelContainer: \n",
      "    ImportImageContainer (0x55e1e67a4330)\n",
      "      RTTI typeinfo:   itk::ImportImageContainer<unsigned long, unsigned char>\n",
      "      Reference Count: 1\n",
      "      Modified Time: 445\n",
      "      Debug: Off\n",
      "      Object Name: \n",
      "      Observers: \n",
      "        none\n",
      "      Pointer: 0x55e1e67d0020\n",
      "      Container manages memory: true\n",
      "      Size: 23714\n",
      "      Capacity: 23714\n",
      "\n"
     ]
    }
   ],
   "source": [
    "print(\"Blue Image Information: %s\" % str(split_images[2]))"
   ]
  },
  {
   "cell_type": "code",
   "execution_count": 10,
   "metadata": {},
   "outputs": [
    {
     "name": "stdout",
     "output_type": "stream",
     "text": [
      "Image (0x55e1e6801270)\n",
      "  RTTI typeinfo:   itk::Image<itk::RGBAPixel<unsigned char>, 2u>\n",
      "  Reference Count: 2\n",
      "  Modified Time: 568\n",
      "  Debug: Off\n",
      "  Object Name: \n",
      "  Observers: \n",
      "    none\n",
      "  Source: (0x55e1e37d4640) \n",
      "  Source output name: Primary\n",
      "  Release Data: Off\n",
      "  Data Released: False\n",
      "  Global Release Data: Off\n",
      "  PipelineMTime: 563\n",
      "  UpdateMTime: 569\n",
      "  RealTimeStamp: 0 seconds \n",
      "  LargestPossibleRegion: \n",
      "    Dimension: 2\n",
      "    Index: [0, 0]\n",
      "    Size: [142, 167]\n",
      "  BufferedRegion: \n",
      "    Dimension: 2\n",
      "    Index: [0, 0]\n",
      "    Size: [142, 167]\n",
      "  RequestedRegion: \n",
      "    Dimension: 2\n",
      "    Index: [0, 0]\n",
      "    Size: [142, 167]\n",
      "  Spacing: [1, 1]\n",
      "  Origin: [0, 0]\n",
      "  Direction: \n",
      "1 0\n",
      "0 1\n",
      "\n",
      "  IndexToPointMatrix: \n",
      "1 0\n",
      "0 1\n",
      "\n",
      "  PointToIndexMatrix: \n",
      "1 0\n",
      "0 1\n",
      "\n",
      "  Inverse Direction: \n",
      "1 0\n",
      "0 1\n",
      "\n",
      "  PixelContainer: \n",
      "    ImportImageContainer (0x55e1e464dfe0)\n",
      "      RTTI typeinfo:   itk::ImportImageContainer<unsigned long, itk::RGBAPixel<unsigned char> >\n",
      "      Reference Count: 1\n",
      "      Modified Time: 567\n",
      "      Debug: Off\n",
      "      Object Name: \n",
      "      Observers: \n",
      "        none\n",
      "      Pointer: 0x55e1e68948d0\n",
      "      Container manages memory: true\n",
      "      Size: 23714\n",
      "      Capacity: 23714\n",
      "\n"
     ]
    },
    {
     "data": {
      "application/vnd.jupyter.widget-view+json": {
       "model_id": "7e83a54600a74a66a8232e6d660c6733",
       "version_major": 2,
       "version_minor": 0
      },
      "text/plain": [
       "Viewer(geometries=[], gradient_opacity=0.22, point_sets=[], rendered_image=<itk.itkImagePython.itkImageRGBAUC2…"
      ]
     },
     "metadata": {},
     "output_type": "display_data"
    }
   ],
   "source": [
    "# Recompose image with an Alpha layer.\n",
    "RGBAImageType = itk.Image[itk.RGBAPixel[itk.UC], image.GetImageDimension()]\n",
    "compose_image_filter = itk.ComposeImageFilter[split_images[0], RGBAImageType].New()\n",
    "compose_image_filter.SetInput(0, split_images[0])\n",
    "compose_image_filter.SetInput(1, split_images[1])\n",
    "compose_image_filter.SetInput(2, split_images[2])\n",
    "\n",
    "alpha_layer = itk.image_duplicator(split_images[2])\n",
    "alpha_layer.FillBuffer(255)\n",
    "compose_image_filter.SetInput(3, alpha_layer)\n",
    "\n",
    "compose_image_filter.Update()\n",
    "recomposed_image = compose_image_filter.GetOutput()\n",
    "print(recomposed_image)\n",
    "view(recomposed_image)"
   ]
  }
 ],
 "metadata": {
  "kernelspec": {
   "display_name": "Python 3",
   "language": "python",
   "name": "python3"
  },
  "language_info": {
   "codemirror_mode": {
    "name": "ipython",
    "version": 3
   },
   "file_extension": ".py",
   "mimetype": "text/x-python",
   "name": "python",
   "nbconvert_exporter": "python",
   "pygments_lexer": "ipython3",
   "version": "3.8.8"
  }
 },
 "nbformat": 4,
 "nbformat_minor": 2
}
